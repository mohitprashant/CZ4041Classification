{
  "nbformat": 4,
  "nbformat_minor": 0,
  "metadata": {
    "colab": {
      "name": "CZ4041_v1.ipynb",
      "provenance": []
    },
    "kernelspec": {
      "name": "python3",
      "display_name": "Python 3"
    },
    "accelerator": "GPU"
  },
  "cells": [
    {
      "cell_type": "code",
      "metadata": {
        "id": "6NgA2-kvthTw",
        "colab_type": "code",
        "colab": {
          "base_uri": "https://localhost:8080/",
          "height": 34
        },
        "outputId": "147950bd-54c2-4b76-b4ed-024b5cc2a749"
      },
      "source": [
        "import numpy as np\n",
        "import pandas as pd\n",
        "import math\n",
        "import seaborn as sb\n",
        "sb.set()\n",
        "import matplotlib.pyplot as plt\n",
        "\n",
        "%tensorflow_version 2.x\n",
        "import tensorflow as tf\n",
        "import tensorflow_hub as hub"
      ],
      "execution_count": 1,
      "outputs": [
        {
          "output_type": "stream",
          "text": [
            "TensorFlow 2.x selected.\n"
          ],
          "name": "stdout"
        }
      ]
    },
    {
      "cell_type": "markdown",
      "metadata": {
        "id": "FojIbKaNuIvE",
        "colab_type": "text"
      },
      "source": [
        "## Import Datasets"
      ]
    },
    {
      "cell_type": "code",
      "metadata": {
        "id": "OdIrDoPhuCbT",
        "colab_type": "code",
        "colab": {}
      },
      "source": [
        "trainset=pd.read_csv('https://raw.githubusercontent.com/mohitprashant/CZ4041Classification/master/train.csv')\n",
        "testset=pd.read_csv('https://raw.githubusercontent.com/mohitprashant/CZ4041Classification/master/test.csv')"
      ],
      "execution_count": 0,
      "outputs": []
    },
    {
      "cell_type": "code",
      "metadata": {
        "id": "vABYeEkkyEFx",
        "colab_type": "code",
        "outputId": "8f692204-ceef-49eb-f838-05cabb8024d8",
        "colab": {
          "base_uri": "https://localhost:8080/",
          "height": 249
        }
      },
      "source": [
        "trainset.head()"
      ],
      "execution_count": 3,
      "outputs": [
        {
          "output_type": "execute_result",
          "data": {
            "text/html": [
              "<div>\n",
              "<style scoped>\n",
              "    .dataframe tbody tr th:only-of-type {\n",
              "        vertical-align: middle;\n",
              "    }\n",
              "\n",
              "    .dataframe tbody tr th {\n",
              "        vertical-align: top;\n",
              "    }\n",
              "\n",
              "    .dataframe thead th {\n",
              "        text-align: right;\n",
              "    }\n",
              "</style>\n",
              "<table border=\"1\" class=\"dataframe\">\n",
              "  <thead>\n",
              "    <tr style=\"text-align: right;\">\n",
              "      <th></th>\n",
              "      <th>id</th>\n",
              "      <th>bin_0</th>\n",
              "      <th>bin_1</th>\n",
              "      <th>bin_2</th>\n",
              "      <th>bin_3</th>\n",
              "      <th>bin_4</th>\n",
              "      <th>nom_0</th>\n",
              "      <th>nom_1</th>\n",
              "      <th>nom_2</th>\n",
              "      <th>nom_3</th>\n",
              "      <th>nom_4</th>\n",
              "      <th>nom_5</th>\n",
              "      <th>nom_6</th>\n",
              "      <th>nom_7</th>\n",
              "      <th>nom_8</th>\n",
              "      <th>nom_9</th>\n",
              "      <th>ord_0</th>\n",
              "      <th>ord_1</th>\n",
              "      <th>ord_2</th>\n",
              "      <th>ord_3</th>\n",
              "      <th>ord_4</th>\n",
              "      <th>ord_5</th>\n",
              "      <th>day</th>\n",
              "      <th>month</th>\n",
              "      <th>target</th>\n",
              "    </tr>\n",
              "  </thead>\n",
              "  <tbody>\n",
              "    <tr>\n",
              "      <th>0</th>\n",
              "      <td>0</td>\n",
              "      <td>0</td>\n",
              "      <td>0</td>\n",
              "      <td>0</td>\n",
              "      <td>T</td>\n",
              "      <td>Y</td>\n",
              "      <td>Green</td>\n",
              "      <td>Triangle</td>\n",
              "      <td>Snake</td>\n",
              "      <td>Finland</td>\n",
              "      <td>Bassoon</td>\n",
              "      <td>50f116bcf</td>\n",
              "      <td>3ac1b8814</td>\n",
              "      <td>68f6ad3e9</td>\n",
              "      <td>c389000ab</td>\n",
              "      <td>2f4cb3d51</td>\n",
              "      <td>2</td>\n",
              "      <td>Grandmaster</td>\n",
              "      <td>Cold</td>\n",
              "      <td>h</td>\n",
              "      <td>D</td>\n",
              "      <td>kr</td>\n",
              "      <td>2</td>\n",
              "      <td>2</td>\n",
              "      <td>0</td>\n",
              "    </tr>\n",
              "    <tr>\n",
              "      <th>1</th>\n",
              "      <td>1</td>\n",
              "      <td>0</td>\n",
              "      <td>1</td>\n",
              "      <td>0</td>\n",
              "      <td>T</td>\n",
              "      <td>Y</td>\n",
              "      <td>Green</td>\n",
              "      <td>Trapezoid</td>\n",
              "      <td>Hamster</td>\n",
              "      <td>Russia</td>\n",
              "      <td>Piano</td>\n",
              "      <td>b3b4d25d0</td>\n",
              "      <td>fbcb50fc1</td>\n",
              "      <td>3b6dd5612</td>\n",
              "      <td>4cd920251</td>\n",
              "      <td>f83c56c21</td>\n",
              "      <td>1</td>\n",
              "      <td>Grandmaster</td>\n",
              "      <td>Hot</td>\n",
              "      <td>a</td>\n",
              "      <td>A</td>\n",
              "      <td>bF</td>\n",
              "      <td>7</td>\n",
              "      <td>8</td>\n",
              "      <td>0</td>\n",
              "    </tr>\n",
              "    <tr>\n",
              "      <th>2</th>\n",
              "      <td>2</td>\n",
              "      <td>0</td>\n",
              "      <td>0</td>\n",
              "      <td>0</td>\n",
              "      <td>F</td>\n",
              "      <td>Y</td>\n",
              "      <td>Blue</td>\n",
              "      <td>Trapezoid</td>\n",
              "      <td>Lion</td>\n",
              "      <td>Russia</td>\n",
              "      <td>Theremin</td>\n",
              "      <td>3263bdce5</td>\n",
              "      <td>0922e3cb8</td>\n",
              "      <td>a6a36f527</td>\n",
              "      <td>de9c9f684</td>\n",
              "      <td>ae6800dd0</td>\n",
              "      <td>1</td>\n",
              "      <td>Expert</td>\n",
              "      <td>Lava Hot</td>\n",
              "      <td>h</td>\n",
              "      <td>R</td>\n",
              "      <td>Jc</td>\n",
              "      <td>7</td>\n",
              "      <td>2</td>\n",
              "      <td>0</td>\n",
              "    </tr>\n",
              "    <tr>\n",
              "      <th>3</th>\n",
              "      <td>3</td>\n",
              "      <td>0</td>\n",
              "      <td>1</td>\n",
              "      <td>0</td>\n",
              "      <td>F</td>\n",
              "      <td>Y</td>\n",
              "      <td>Red</td>\n",
              "      <td>Trapezoid</td>\n",
              "      <td>Snake</td>\n",
              "      <td>Canada</td>\n",
              "      <td>Oboe</td>\n",
              "      <td>f12246592</td>\n",
              "      <td>50d7ad46a</td>\n",
              "      <td>ec69236eb</td>\n",
              "      <td>4ade6ab69</td>\n",
              "      <td>8270f0d71</td>\n",
              "      <td>1</td>\n",
              "      <td>Grandmaster</td>\n",
              "      <td>Boiling Hot</td>\n",
              "      <td>i</td>\n",
              "      <td>D</td>\n",
              "      <td>kW</td>\n",
              "      <td>2</td>\n",
              "      <td>1</td>\n",
              "      <td>1</td>\n",
              "    </tr>\n",
              "    <tr>\n",
              "      <th>4</th>\n",
              "      <td>4</td>\n",
              "      <td>0</td>\n",
              "      <td>0</td>\n",
              "      <td>0</td>\n",
              "      <td>F</td>\n",
              "      <td>N</td>\n",
              "      <td>Red</td>\n",
              "      <td>Trapezoid</td>\n",
              "      <td>Lion</td>\n",
              "      <td>Canada</td>\n",
              "      <td>Oboe</td>\n",
              "      <td>5b0f5acd5</td>\n",
              "      <td>1fe17a1fd</td>\n",
              "      <td>04ddac2be</td>\n",
              "      <td>cb43ab175</td>\n",
              "      <td>b164b72a7</td>\n",
              "      <td>1</td>\n",
              "      <td>Grandmaster</td>\n",
              "      <td>Freezing</td>\n",
              "      <td>a</td>\n",
              "      <td>R</td>\n",
              "      <td>qP</td>\n",
              "      <td>7</td>\n",
              "      <td>8</td>\n",
              "      <td>0</td>\n",
              "    </tr>\n",
              "  </tbody>\n",
              "</table>\n",
              "</div>"
            ],
            "text/plain": [
              "   id  bin_0  bin_1  bin_2 bin_3 bin_4  ... ord_3 ord_4 ord_5 day month target\n",
              "0   0      0      0      0     T     Y  ...     h     D    kr   2     2      0\n",
              "1   1      0      1      0     T     Y  ...     a     A    bF   7     8      0\n",
              "2   2      0      0      0     F     Y  ...     h     R    Jc   7     2      0\n",
              "3   3      0      1      0     F     Y  ...     i     D    kW   2     1      1\n",
              "4   4      0      0      0     F     N  ...     a     R    qP   7     8      0\n",
              "\n",
              "[5 rows x 25 columns]"
            ]
          },
          "metadata": {
            "tags": []
          },
          "execution_count": 3
        }
      ]
    },
    {
      "cell_type": "code",
      "metadata": {
        "id": "1BvvK0qJ-Yxq",
        "colab_type": "code",
        "colab": {}
      },
      "source": [
        "#Feature Encoding\n",
        "trainset.loc[trainset['bin_3']=='T','bin_3']=1\n",
        "trainset.loc[trainset['bin_3']=='F','bin_3']=0\n",
        "\n",
        "trainset.loc[trainset['bin_4']=='Y','bin_4']=1\n",
        "trainset.loc[trainset['bin_4']=='N','bin_4']=0\n",
        "\n",
        "trainset.loc[trainset['ord_1']=='Grandmaster','ord_1']=4\n",
        "trainset.loc[trainset['ord_1']=='Master','ord_1']=3\n",
        "trainset.loc[trainset['ord_1']=='Expert','ord_1']=2\n",
        "trainset.loc[trainset['ord_1']=='Contributor','ord_1']=1\n",
        "trainset.loc[trainset['ord_1']=='Novice','ord_1']=0\n",
        "\n",
        "trainset.loc[trainset['ord_2']=='Lava Hot','ord_2']=5\n",
        "trainset.loc[trainset['ord_2']=='Boiling Hot','ord_2']=4\n",
        "trainset.loc[trainset['ord_2']=='Hot','ord_2']=3\n",
        "trainset.loc[trainset['ord_2']=='Warm','ord_2']=2\n",
        "trainset.loc[trainset['ord_2']=='Cold','ord_2']=1\n",
        "trainset.loc[trainset['ord_2']=='Freezing','ord_2']=0\n",
        "\n",
        "for i in range(len(trainset)):\n",
        "  trainset.at[i,'ord_3']=ord(trainset.at[i,'ord_3'])-97\n",
        "\n",
        "for i in range(len(trainset)):\n",
        "  trainset.at[i,'ord_4']=ord(trainset.at[i,'ord_4'])-65\n",
        "\n",
        "import string\n",
        "\n",
        "asc=string.ascii_letters\n",
        "\n",
        "for i in range(len(trainset)):\n",
        "  one=asc.index(trainset.at[i,'ord_5'][0])\n",
        "  two=asc.index(trainset.at[i,'ord_5'][1])\n",
        "  trainset.at[i,'ord_5']=one*52+two\n",
        "\n",
        "l0=trainset.nom_0.unique().tolist()\n",
        "for i in range(len(trainset)):\n",
        "  trainset.at[i,'nom_0']=l0.index(trainset.at[i,'nom_0'])\n",
        "\n",
        "l1=trainset.nom_1.unique().tolist()\n",
        "for i in range(len(trainset)):\n",
        "  trainset.at[i,'nom_1']=l1.index(trainset.at[i,'nom_1'])\n",
        "\n",
        "l2=trainset.nom_2.unique().tolist()\n",
        "for i in range(len(trainset)):\n",
        "  trainset.at[i,'nom_2']=l2.index(trainset.at[i,'nom_2'])\n",
        "\n",
        "l3=trainset.nom_3.unique().tolist()\n",
        "for i in range(len(trainset)):\n",
        "  trainset.at[i,'nom_3']=l3.index(trainset.at[i,'nom_3'])\n",
        "\n",
        "l4=trainset.nom_4.unique().tolist()\n",
        "for i in range(len(trainset)):\n",
        "  trainset.at[i,'nom_4']=l4.index(trainset.at[i,'nom_4'])\n",
        "\n"
      ],
      "execution_count": 0,
      "outputs": []
    },
    {
      "cell_type": "code",
      "metadata": {
        "id": "67ghHFGXKNrZ",
        "colab_type": "code",
        "colab": {}
      },
      "source": [
        "testset.loc[testset['bin_3']=='T','bin_3']=1\n",
        "testset.loc[testset['bin_3']=='F','bin_3']=0\n",
        "\n",
        "testset.loc[testset['bin_4']=='Y','bin_4']=1\n",
        "testset.loc[testset['bin_4']=='N','bin_4']=0\n",
        "\n",
        "testset.loc[testset['ord_1']=='Grandmaster','ord_1']=4\n",
        "testset.loc[testset['ord_1']=='Master','ord_1']=3\n",
        "testset.loc[testset['ord_1']=='Expert','ord_1']=2\n",
        "testset.loc[testset['ord_1']=='Contributor','ord_1']=1\n",
        "testset.loc[testset['ord_1']=='Novice','ord_1']=0\n",
        "\n",
        "testset.loc[testset['ord_2']=='Lava Hot','ord_2']=5\n",
        "testset.loc[testset['ord_2']=='Boiling Hot','ord_2']=4\n",
        "testset.loc[testset['ord_2']=='Hot','ord_2']=3\n",
        "testset.loc[testset['ord_2']=='Warm','ord_2']=2\n",
        "testset.loc[testset['ord_2']=='Cold','ord_2']=1\n",
        "testset.loc[testset['ord_2']=='Freezing','ord_2']=0\n",
        "\n",
        "for i in range(len(testset)):\n",
        "  testset.at[i,'ord_3']=ord(testset.at[i,'ord_3'])-97\n",
        "\n",
        "for i in range(len(testset)):\n",
        "  testset.at[i,'ord_4']=ord(testset.at[i,'ord_4'])-65\n",
        "\n",
        "for i in range(len(testset)):\n",
        "  one=asc.index(testset.at[i,'ord_5'][0])\n",
        "  two=asc.index(testset.at[i,'ord_5'][1])\n",
        "  testset.at[i,'ord_5']=one*52+two"
      ],
      "execution_count": 0,
      "outputs": []
    },
    {
      "cell_type": "markdown",
      "metadata": {
        "id": "IsQCX4QZm0TA",
        "colab_type": "text"
      },
      "source": [
        "## Visualizing Cyclical Data"
      ]
    },
    {
      "cell_type": "code",
      "metadata": {
        "id": "GrprWJ6Hm80m",
        "colab_type": "code",
        "outputId": "0d838f72-04bd-4c08-bc2b-89af877d5356",
        "colab": {
          "base_uri": "https://localhost:8080/",
          "height": 302
        }
      },
      "source": [
        "sb.boxplot(x=\"month\", y=\"target\", data=trainset, orient=\"h\")"
      ],
      "execution_count": 6,
      "outputs": [
        {
          "output_type": "execute_result",
          "data": {
            "text/plain": [
              "<matplotlib.axes._subplots.AxesSubplot at 0x7f57c79b7dd8>"
            ]
          },
          "metadata": {
            "tags": []
          },
          "execution_count": 6
        },
        {
          "output_type": "display_data",
          "data": {
            "image/png": "[encoded data removed]",
            "text/plain": [
              "<Figure size 432x288 with 1 Axes>"
            ]
          },
          "metadata": {
            "tags": []
          }
        }
      ]
    },
    {
      "cell_type": "code",
      "metadata": {
        "id": "aN7PzmzrnCBN",
        "colab_type": "code",
        "outputId": "e5d31c4f-c8d5-497c-ec9e-0f4fee4f30b6",
        "colab": {
          "base_uri": "https://localhost:8080/",
          "height": 302
        }
      },
      "source": [
        "sb.boxplot(x=\"day\", y=\"target\", data=trainset, orient=\"h\")"
      ],
      "execution_count": 7,
      "outputs": [
        {
          "output_type": "execute_result",
          "data": {
            "text/plain": [
              "<matplotlib.axes._subplots.AxesSubplot at 0x7f57c678d160>"
            ]
          },
          "metadata": {
            "tags": []
          },
          "execution_count": 7
        },
        {
          "output_type": "display_data",
          "data": {
            "image/png": "[encoded data removed]",
            "text/plain": [
              "<Figure size 432x288 with 1 Axes>"
            ]
          },
          "metadata": {
            "tags": []
          }
        }
      ]
    },
    {
      "cell_type": "markdown",
      "metadata": {
        "id": "Th3qNxC18SyY",
        "colab_type": "text"
      },
      "source": [
        "## Visualizing Ordinal Data"
      ]
    },
    {
      "cell_type": "code",
      "metadata": {
        "id": "qCe0c33SzFCi",
        "colab_type": "code",
        "outputId": "45151663-391f-4116-cb16-1390e18c5225",
        "colab": {
          "base_uri": "https://localhost:8080/",
          "height": 302
        }
      },
      "source": [
        "sb.boxplot(x=\"ord_1\", y=\"target\", data=trainset, orient=\"h\")"
      ],
      "execution_count": 8,
      "outputs": [
        {
          "output_type": "execute_result",
          "data": {
            "text/plain": [
              "<matplotlib.axes._subplots.AxesSubplot at 0x7f57c79b7208>"
            ]
          },
          "metadata": {
            "tags": []
          },
          "execution_count": 8
        },
        {
          "output_type": "display_data",
          "data": {
            "image/png": "[encoded data removed]",
            "text/plain": [
              "<Figure size 432x288 with 1 Axes>"
            ]
          },
          "metadata": {
            "tags": []
          }
        }
      ]
    },
    {
      "cell_type": "code",
      "metadata": {
        "id": "r03Jhkr3-Cu8",
        "colab_type": "code",
        "outputId": "feddad90-142d-4ba3-ab51-1b1f852fa5d0",
        "colab": {
          "base_uri": "https://localhost:8080/",
          "height": 302
        }
      },
      "source": [
        "sb.boxplot(x=\"ord_2\", y=\"target\", data=trainset, orient=\"h\")"
      ],
      "execution_count": 9,
      "outputs": [
        {
          "output_type": "execute_result",
          "data": {
            "text/plain": [
              "<matplotlib.axes._subplots.AxesSubplot at 0x7f57c667f5f8>"
            ]
          },
          "metadata": {
            "tags": []
          },
          "execution_count": 9
        },
        {
          "output_type": "display_data",
          "data": {
            "image/png": "[encoded data removed]",
            "text/plain": [
              "<Figure size 432x288 with 1 Axes>"
            ]
          },
          "metadata": {
            "tags": []
          }
        }
      ]
    },
    {
      "cell_type": "code",
      "metadata": {
        "id": "GDexBOZYJpJg",
        "colab_type": "code",
        "outputId": "8fef279a-a282-4a61-ea88-5f48410619e7",
        "colab": {
          "base_uri": "https://localhost:8080/",
          "height": 302
        }
      },
      "source": [
        "sb.boxplot(x=\"ord_3\", y=\"target\", data=trainset, orient=\"h\")"
      ],
      "execution_count": 10,
      "outputs": [
        {
          "output_type": "execute_result",
          "data": {
            "text/plain": [
              "<matplotlib.axes._subplots.AxesSubplot at 0x7f57c65e9128>"
            ]
          },
          "metadata": {
            "tags": []
          },
          "execution_count": 10
        },
        {
          "output_type": "display_data",
          "data": {
            "image/png": "[encoded data removed]",
            "text/plain": [
              "<Figure size 432x288 with 1 Axes>"
            ]
          },
          "metadata": {
            "tags": []
          }
        }
      ]
    },
    {
      "cell_type": "code",
      "metadata": {
        "id": "mc0sZawmJree",
        "colab_type": "code",
        "outputId": "6c5f74c7-6c1b-4821-d385-97f6f4247aa2",
        "colab": {
          "base_uri": "https://localhost:8080/",
          "height": 302
        }
      },
      "source": [
        "sb.boxplot(x=\"ord_4\", y=\"target\", data=trainset, orient=\"h\")"
      ],
      "execution_count": 11,
      "outputs": [
        {
          "output_type": "execute_result",
          "data": {
            "text/plain": [
              "<matplotlib.axes._subplots.AxesSubplot at 0x7f57c65dd7f0>"
            ]
          },
          "metadata": {
            "tags": []
          },
          "execution_count": 11
        },
        {
          "output_type": "display_data",
          "data": {
            "image/png": "[encoded data removed]",
            "text/plain": [
              "<Figure size 432x288 with 1 Axes>"
            ]
          },
          "metadata": {
            "tags": []
          }
        }
      ]
    },
    {
      "cell_type": "code",
      "metadata": {
        "id": "ckFqcVqOJtcN",
        "colab_type": "code",
        "outputId": "2a14ca9c-2238-430d-ce6e-3981226a682b",
        "colab": {
          "base_uri": "https://localhost:8080/",
          "height": 302
        }
      },
      "source": [
        "sb.boxplot(x=\"ord_5\", y=\"target\", data=trainset, orient=\"h\")"
      ],
      "execution_count": 12,
      "outputs": [
        {
          "output_type": "execute_result",
          "data": {
            "text/plain": [
              "<matplotlib.axes._subplots.AxesSubplot at 0x7f57c6550668>"
            ]
          },
          "metadata": {
            "tags": []
          },
          "execution_count": 12
        },
        {
          "output_type": "display_data",
          "data": {
            "image/png": "[encoded data removed]",
            "text/plain": [
              "<Figure size 432x288 with 1 Axes>"
            ]
          },
          "metadata": {
            "tags": []
          }
        }
      ]
    },
    {
      "cell_type": "markdown",
      "metadata": {
        "id": "nm5miLINKC8u",
        "colab_type": "text"
      },
      "source": [
        "## Visualizing Binary Data"
      ]
    },
    {
      "cell_type": "code",
      "metadata": {
        "id": "SjbTTmXtKKng",
        "colab_type": "code",
        "colab": {}
      },
      "source": [
        "from sklearn.metrics import confusion_matrix"
      ],
      "execution_count": 0,
      "outputs": []
    },
    {
      "cell_type": "code",
      "metadata": {
        "id": "D5M1kQzgL1T1",
        "colab_type": "code",
        "outputId": "995936aa-7603-40ca-921c-ba385b1e578d",
        "colab": {
          "base_uri": "https://localhost:8080/",
          "height": 50
        }
      },
      "source": [
        "confusion_matrix(trainset['bin_0'], trainset['target'])"
      ],
      "execution_count": 14,
      "outputs": [
        {
          "output_type": "execute_result",
          "data": {
            "text/plain": [
              "array([[181786,  79963],\n",
              "       [ 26450,  11801]])"
            ]
          },
          "metadata": {
            "tags": []
          },
          "execution_count": 14
        }
      ]
    },
    {
      "cell_type": "code",
      "metadata": {
        "id": "2O72Cy7yL-UY",
        "colab_type": "code",
        "outputId": "1b7caf06-be39-41dc-d96f-40e121a2e9f8",
        "colab": {
          "base_uri": "https://localhost:8080/",
          "height": 50
        }
      },
      "source": [
        "confusion_matrix(trainset['bin_1'], trainset['target'])"
      ],
      "execution_count": 15,
      "outputs": [
        {
          "output_type": "execute_result",
          "data": {
            "text/plain": [
              "array([[149434,  73584],\n",
              "       [ 58802,  18180]])"
            ]
          },
          "metadata": {
            "tags": []
          },
          "execution_count": 15
        }
      ]
    },
    {
      "cell_type": "code",
      "metadata": {
        "id": "5qXnr3YpME1p",
        "colab_type": "code",
        "outputId": "5f2c4711-1fcc-42e7-d023-c7cefbb45892",
        "colab": {
          "base_uri": "https://localhost:8080/",
          "height": 50
        }
      },
      "source": [
        "confusion_matrix(trainset['bin_2'], trainset['target'])"
      ],
      "execution_count": 16,
      "outputs": [
        {
          "output_type": "execute_result",
          "data": {
            "text/plain": [
              "array([[129238,  55795],\n",
              "       [ 78998,  35969]])"
            ]
          },
          "metadata": {
            "tags": []
          },
          "execution_count": 16
        }
      ]
    },
    {
      "cell_type": "code",
      "metadata": {
        "id": "Ks93zY51MM8l",
        "colab_type": "code",
        "outputId": "477ba1eb-31e7-4b7b-ce10-3b18965859fe",
        "colab": {
          "base_uri": "https://localhost:8080/",
          "height": 50
        }
      },
      "source": [
        "confusion_matrix(trainset['bin_3'], trainset['target'])"
      ],
      "execution_count": 17,
      "outputs": [
        {
          "output_type": "execute_result",
          "data": {
            "text/plain": [
              "array([[101151,  45314],\n",
              "       [107085,  46450]])"
            ]
          },
          "metadata": {
            "tags": []
          },
          "execution_count": 17
        }
      ]
    },
    {
      "cell_type": "code",
      "metadata": {
        "id": "Sh-S5ShTMSJH",
        "colab_type": "code",
        "outputId": "12ed8fa1-ad42-4c2c-bfd4-7a9782e0ed6f",
        "colab": {
          "base_uri": "https://localhost:8080/",
          "height": 50
        }
      },
      "source": [
        "confusion_matrix(trainset['bin_4'], trainset['target'])"
      ],
      "execution_count": 18,
      "outputs": [
        {
          "output_type": "execute_result",
          "data": {
            "text/plain": [
              "array([[ 72197,  36170],\n",
              "       [136039,  55594]])"
            ]
          },
          "metadata": {
            "tags": []
          },
          "execution_count": 18
        }
      ]
    },
    {
      "cell_type": "code",
      "metadata": {
        "id": "mSSKgHDLMTyo",
        "colab_type": "code",
        "colab": {}
      },
      "source": [
        ""
      ],
      "execution_count": 0,
      "outputs": []
    },
    {
      "cell_type": "markdown",
      "metadata": {
        "id": "_BN_Kh93PUFc",
        "colab_type": "text"
      },
      "source": [
        "## Decision Tree Classifier"
      ]
    },
    {
      "cell_type": "code",
      "metadata": {
        "id": "9qf7s8UkPZm3",
        "colab_type": "code",
        "colab": {}
      },
      "source": [
        "from sklearn.tree import DecisionTreeClassifier\n",
        "from sklearn.model_selection import train_test_split\n",
        "from sklearn.metrics import confusion_matrix\n",
        "\n",
        "y=pd.DataFrame(trainset['target'])\n",
        "X=pd.DataFrame(trainset[['bin_0','bin_1','bin_2','bin_3','bin_4','ord_0','ord_1','ord_2','ord_3','ord_4','ord_5','nom_0','nom_1','nom_2','nom_3','nom_4']])\n",
        "\n",
        "X_train, X_test, y_train, y_test=train_test_split(X, y, test_size = 0.1)\n",
        "\n",
        "dectree=DecisionTreeClassifier(min_samples_split=250)\n",
        "dectree.fit(X_train, y_train)\n",
        "\n",
        "y_train_pred = dectree.predict(X_train)\n",
        "y_test_pred = dectree.predict(X_test)"
      ],
      "execution_count": 0,
      "outputs": []
    },
    {
      "cell_type": "code",
      "metadata": {
        "id": "PMgVUo-_Qq0E",
        "colab_type": "code",
        "outputId": "059273cb-abdf-456c-fac6-d63a4a44fa0e",
        "colab": {
          "base_uri": "https://localhost:8080/",
          "height": 50
        }
      },
      "source": [
        "# Check the Goodness of Fit (on Train Data)\n",
        "print(\"Goodness of Fit of Model \\tTrain Dataset\")\n",
        "print(\"Classification Accuracy \\t:\", dectree.score(X_train, y_train))"
      ],
      "execution_count": 20,
      "outputs": [
        {
          "output_type": "stream",
          "text": [
            "Goodness of Fit of Model \tTrain Dataset\n",
            "Classification Accuracy \t: 0.7370888888888889\n"
          ],
          "name": "stdout"
        }
      ]
    },
    {
      "cell_type": "code",
      "metadata": {
        "id": "mAIqHIOrQvVP",
        "colab_type": "code",
        "outputId": "ad22648f-2f56-4649-d697-97a41252d1ed",
        "colab": {
          "base_uri": "https://localhost:8080/",
          "height": 50
        }
      },
      "source": [
        "# Check the Goodness of Fit (on Test Data)\n",
        "print(\"Goodness of Fit of Model \\tTest Dataset\")\n",
        "print(\"Classification Accuracy \\t:\", dectree.score(X_test, y_test))"
      ],
      "execution_count": 21,
      "outputs": [
        {
          "output_type": "stream",
          "text": [
            "Goodness of Fit of Model \tTest Dataset\n",
            "Classification Accuracy \t: 0.7171333333333333\n"
          ],
          "name": "stdout"
        }
      ]
    },
    {
      "cell_type": "code",
      "metadata": {
        "id": "WwFlnkfcQ4ep",
        "colab_type": "code",
        "colab": {}
      },
      "source": [
        ""
      ],
      "execution_count": 0,
      "outputs": []
    },
    {
      "cell_type": "markdown",
      "metadata": {
        "id": "3G9_IvmCaJYL",
        "colab_type": "text"
      },
      "source": [
        "## Random Forest"
      ]
    },
    {
      "cell_type": "code",
      "metadata": {
        "id": "OicpTJhFaLLX",
        "colab_type": "code",
        "outputId": "d3eab922-c4e8-4c44-94b5-7d1e7e77fe8d",
        "colab": {
          "base_uri": "https://localhost:8080/",
          "height": 70
        }
      },
      "source": [
        "from sklearn.ensemble import RandomForestClassifier\n",
        "from sklearn.datasets import make_classification\n",
        "\n",
        "y=pd.DataFrame(trainset['target'])\n",
        "X=pd.DataFrame(trainset[['bin_0','bin_1','bin_2','bin_3','bin_4','ord_0','ord_1','ord_2','ord_3','ord_4','ord_5','nom_0','nom_1','nom_2','nom_3','nom_4']])\n",
        "\n",
        "X_train, X_test, y_train, y_test=train_test_split(X, y, test_size = 0.1)\n",
        "\n",
        "forest=RandomForestClassifier(max_depth=20,n_jobs=-1)\n",
        "forest.fit(X_train, y_train)\n",
        "\n",
        "y_train_pred = forest.predict(X_train)\n",
        "y_test_pred = forest.predict(X_test)"
      ],
      "execution_count": 73,
      "outputs": [
        {
          "output_type": "stream",
          "text": [
            "/usr/local/lib/python3.6/dist-packages/ipykernel_launcher.py:10: DataConversionWarning: A column-vector y was passed when a 1d array was expected. Please change the shape of y to (n_samples,), for example using ravel().\n",
            "  # Remove the CWD from sys.path while we load stuff.\n"
          ],
          "name": "stderr"
        }
      ]
    },
    {
      "cell_type": "code",
      "metadata": {
        "id": "6Mq4ENcIahCk",
        "colab_type": "code",
        "outputId": "2104b5d9-93f9-4924-fc57-ae2bdbe5fd09",
        "colab": {
          "base_uri": "https://localhost:8080/",
          "height": 50
        }
      },
      "source": [
        "# Check the Goodness of Fit (on Train Data)\n",
        "print(\"Goodness of Fit of Model \\tTrain Dataset\")\n",
        "print(\"Classification Accuracy \\t:\", forest.score(X_train, y_train))"
      ],
      "execution_count": 74,
      "outputs": [
        {
          "output_type": "stream",
          "text": [
            "Goodness of Fit of Model \tTrain Dataset\n",
            "Classification Accuracy \t: 0.9865148148148148\n"
          ],
          "name": "stdout"
        }
      ]
    },
    {
      "cell_type": "code",
      "metadata": {
        "colab_type": "code",
        "outputId": "e9b29cfd-7e72-468a-a17f-f12525f15788",
        "id": "ZsB5riiLhQ5U",
        "colab": {
          "base_uri": "https://localhost:8080/",
          "height": 50
        }
      },
      "source": [
        "# Check the Goodness of Fit (on Test Data)\n",
        "print(\"Goodness of Fit of Model \\tTest Dataset\")\n",
        "print(\"Classification Accuracy \\t:\", forest.score(X_test, y_test))"
      ],
      "execution_count": 75,
      "outputs": [
        {
          "output_type": "stream",
          "text": [
            "Goodness of Fit of Model \tTest Dataset\n",
            "Classification Accuracy \t: 0.7268333333333333\n"
          ],
          "name": "stdout"
        }
      ]
    },
    {
      "cell_type": "code",
      "metadata": {
        "id": "AOTVD2VHmurO",
        "colab_type": "code",
        "colab": {}
      },
      "source": [
        ""
      ],
      "execution_count": 0,
      "outputs": []
    }
  ]
}